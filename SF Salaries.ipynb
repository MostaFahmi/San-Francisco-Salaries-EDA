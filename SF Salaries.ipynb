{
 "cells": [
  {
   "cell_type": "markdown",
   "id": "1bf920a6",
   "metadata": {},
   "source": [
    "# SAN FRANCISCO SALARIES | Exploratory Data Analysis"
   ]
  },
  {
   "cell_type": "markdown",
   "id": "a1669978",
   "metadata": {},
   "source": [
    "## Importing Libraries"
   ]
  },
  {
   "cell_type": "code",
   "execution_count": 70,
   "id": "1fc7477f",
   "metadata": {},
   "outputs": [],
   "source": [
    "import numpy as np\n",
    "import pandas as pd\n",
    "import matplotlib.pyplot as plt\n",
    "%matplotlib inline\n",
    "import seaborn as sns\n",
    "import warnings\n",
    "warnings.filterwarnings('ignore')\n",
    "pd.set_option('display.max_columns', None)\n",
    "import plotly.graph_objs as go\n",
    "from plotly.subplots import make_subplots"
   ]
  },
  {
   "cell_type": "markdown",
   "id": "88c07950",
   "metadata": {},
   "source": [
    "#\n",
    "\n",
    "# San Francisco Salaries Dataset on Kaggle\n",
    "### Data Source: https://www.kaggle.com/datasets/kaggle/sf-salaries?resource=download\n",
    "\n",
    "#"
   ]
  },
  {
   "cell_type": "markdown",
   "id": "797171ca",
   "metadata": {},
   "source": [
    "## Importing The CSV. File"
   ]
  },
  {
   "cell_type": "code",
   "execution_count": 71,
   "id": "1110635a",
   "metadata": {},
   "outputs": [],
   "source": [
    "df = pd.read_csv(r\"C:\\Users\\mosta\\Downloads\\archive (4)\\Salaries.csv\")"
   ]
  },
  {
   "cell_type": "code",
   "execution_count": 72,
   "id": "0ee25f91",
   "metadata": {
    "scrolled": true
   },
   "outputs": [
    {
     "data": {
      "text/html": [
       "<div>\n",
       "<style scoped>\n",
       "    .dataframe tbody tr th:only-of-type {\n",
       "        vertical-align: middle;\n",
       "    }\n",
       "\n",
       "    .dataframe tbody tr th {\n",
       "        vertical-align: top;\n",
       "    }\n",
       "\n",
       "    .dataframe thead th {\n",
       "        text-align: right;\n",
       "    }\n",
       "</style>\n",
       "<table border=\"1\" class=\"dataframe\">\n",
       "  <thead>\n",
       "    <tr style=\"text-align: right;\">\n",
       "      <th></th>\n",
       "      <th>Id</th>\n",
       "      <th>EmployeeName</th>\n",
       "      <th>JobTitle</th>\n",
       "      <th>BasePay</th>\n",
       "      <th>OvertimePay</th>\n",
       "      <th>OtherPay</th>\n",
       "      <th>Benefits</th>\n",
       "      <th>TotalPay</th>\n",
       "      <th>TotalPayBenefits</th>\n",
       "      <th>Year</th>\n",
       "      <th>Notes</th>\n",
       "      <th>Agency</th>\n",
       "      <th>Status</th>\n",
       "    </tr>\n",
       "  </thead>\n",
       "  <tbody>\n",
       "    <tr>\n",
       "      <th>0</th>\n",
       "      <td>1</td>\n",
       "      <td>NATHANIEL FORD</td>\n",
       "      <td>GENERAL MANAGER-METROPOLITAN TRANSIT AUTHORITY</td>\n",
       "      <td>167411.18</td>\n",
       "      <td>0.0</td>\n",
       "      <td>400184.25</td>\n",
       "      <td>NaN</td>\n",
       "      <td>567595.43</td>\n",
       "      <td>567595.43</td>\n",
       "      <td>2011</td>\n",
       "      <td>NaN</td>\n",
       "      <td>San Francisco</td>\n",
       "      <td>NaN</td>\n",
       "    </tr>\n",
       "    <tr>\n",
       "      <th>1</th>\n",
       "      <td>2</td>\n",
       "      <td>GARY JIMENEZ</td>\n",
       "      <td>CAPTAIN III (POLICE DEPARTMENT)</td>\n",
       "      <td>155966.02</td>\n",
       "      <td>245131.88</td>\n",
       "      <td>137811.38</td>\n",
       "      <td>NaN</td>\n",
       "      <td>538909.28</td>\n",
       "      <td>538909.28</td>\n",
       "      <td>2011</td>\n",
       "      <td>NaN</td>\n",
       "      <td>San Francisco</td>\n",
       "      <td>NaN</td>\n",
       "    </tr>\n",
       "    <tr>\n",
       "      <th>2</th>\n",
       "      <td>3</td>\n",
       "      <td>ALBERT PARDINI</td>\n",
       "      <td>CAPTAIN III (POLICE DEPARTMENT)</td>\n",
       "      <td>212739.13</td>\n",
       "      <td>106088.18</td>\n",
       "      <td>16452.6</td>\n",
       "      <td>NaN</td>\n",
       "      <td>335279.91</td>\n",
       "      <td>335279.91</td>\n",
       "      <td>2011</td>\n",
       "      <td>NaN</td>\n",
       "      <td>San Francisco</td>\n",
       "      <td>NaN</td>\n",
       "    </tr>\n",
       "    <tr>\n",
       "      <th>3</th>\n",
       "      <td>4</td>\n",
       "      <td>CHRISTOPHER CHONG</td>\n",
       "      <td>WIRE ROPE CABLE MAINTENANCE MECHANIC</td>\n",
       "      <td>77916.0</td>\n",
       "      <td>56120.71</td>\n",
       "      <td>198306.9</td>\n",
       "      <td>NaN</td>\n",
       "      <td>332343.61</td>\n",
       "      <td>332343.61</td>\n",
       "      <td>2011</td>\n",
       "      <td>NaN</td>\n",
       "      <td>San Francisco</td>\n",
       "      <td>NaN</td>\n",
       "    </tr>\n",
       "    <tr>\n",
       "      <th>4</th>\n",
       "      <td>5</td>\n",
       "      <td>PATRICK GARDNER</td>\n",
       "      <td>DEPUTY CHIEF OF DEPARTMENT,(FIRE DEPARTMENT)</td>\n",
       "      <td>134401.6</td>\n",
       "      <td>9737.0</td>\n",
       "      <td>182234.59</td>\n",
       "      <td>NaN</td>\n",
       "      <td>326373.19</td>\n",
       "      <td>326373.19</td>\n",
       "      <td>2011</td>\n",
       "      <td>NaN</td>\n",
       "      <td>San Francisco</td>\n",
       "      <td>NaN</td>\n",
       "    </tr>\n",
       "  </tbody>\n",
       "</table>\n",
       "</div>"
      ],
      "text/plain": [
       "   Id       EmployeeName                                        JobTitle  \\\n",
       "0   1     NATHANIEL FORD  GENERAL MANAGER-METROPOLITAN TRANSIT AUTHORITY   \n",
       "1   2       GARY JIMENEZ                 CAPTAIN III (POLICE DEPARTMENT)   \n",
       "2   3     ALBERT PARDINI                 CAPTAIN III (POLICE DEPARTMENT)   \n",
       "3   4  CHRISTOPHER CHONG            WIRE ROPE CABLE MAINTENANCE MECHANIC   \n",
       "4   5    PATRICK GARDNER    DEPUTY CHIEF OF DEPARTMENT,(FIRE DEPARTMENT)   \n",
       "\n",
       "     BasePay OvertimePay   OtherPay Benefits   TotalPay  TotalPayBenefits  \\\n",
       "0  167411.18         0.0  400184.25      NaN  567595.43         567595.43   \n",
       "1  155966.02   245131.88  137811.38      NaN  538909.28         538909.28   \n",
       "2  212739.13   106088.18    16452.6      NaN  335279.91         335279.91   \n",
       "3    77916.0    56120.71   198306.9      NaN  332343.61         332343.61   \n",
       "4   134401.6      9737.0  182234.59      NaN  326373.19         326373.19   \n",
       "\n",
       "   Year  Notes         Agency Status  \n",
       "0  2011    NaN  San Francisco    NaN  \n",
       "1  2011    NaN  San Francisco    NaN  \n",
       "2  2011    NaN  San Francisco    NaN  \n",
       "3  2011    NaN  San Francisco    NaN  \n",
       "4  2011    NaN  San Francisco    NaN  "
      ]
     },
     "execution_count": 72,
     "metadata": {},
     "output_type": "execute_result"
    }
   ],
   "source": [
    "df.head()"
   ]
  },
  {
   "cell_type": "markdown",
   "id": "60dfdfc3",
   "metadata": {},
   "source": [
    "## Data Preperation & Exploration"
   ]
  },
  {
   "cell_type": "code",
   "execution_count": 73,
   "id": "b2b5ee5c",
   "metadata": {},
   "outputs": [],
   "source": [
    "# Defining missing values analysis function\n",
    "\n",
    "def missing_values_analysis(df):\n",
    "    na_columns = [col for col in df.columns if df[col].isnull().sum() > 0]\n",
    "    n_miss = df[na_columns].isnull().sum().sort_values(ascending = True)\n",
    "    ratio_ = (df[na_columns].isnull().sum() / df.shape[0]*100).sort_values(ascending = True)\n",
    "    missing_df = pd.concat([n_miss , np.round(ratio_,2)], axis = 1, keys=['Missing Values','Ratio'])\n",
    "    return missing_df\n",
    "\n",
    "# Defining Overview function\n",
    "\n",
    "def dataframe_overview(df, head=5, tail=5):\n",
    "    print('SHAPE'.center(82,'~'))\n",
    "    print('Row: {}'.format(df.shape[0]))\n",
    "    print('Column: {}'.format(df.shape[1]))\n",
    "    print('TYPES'.center(82,'~'))\n",
    "    print(df.dtypes)\n",
    "    print('MISSING VALUES'.center(82,'~'))\n",
    "    print(missing_values_analysis(df))\n",
    "    print('DUPLICATION'.center(83,'~'))\n",
    "    print(df.duplicated().sum())\n",
    "    print('QUANTILES'.center(82,'~'))\n",
    "    print(df.describe())"
   ]
  },
  {
   "cell_type": "markdown",
   "id": "d8e35cec",
   "metadata": {},
   "source": [
    "#\n",
    "# DATA OVERVIEW |\n",
    "#"
   ]
  },
  {
   "cell_type": "code",
   "execution_count": 74,
   "id": "72959220",
   "metadata": {
    "scrolled": true
   },
   "outputs": [
    {
     "name": "stdout",
     "output_type": "stream",
     "text": [
      "~~~~~~~~~~~~~~~~~~~~~~~~~~~~~~~~~~~~~~SHAPE~~~~~~~~~~~~~~~~~~~~~~~~~~~~~~~~~~~~~~~\n",
      "Row: 148654\n",
      "Column: 13\n",
      "~~~~~~~~~~~~~~~~~~~~~~~~~~~~~~~~~~~~~~TYPES~~~~~~~~~~~~~~~~~~~~~~~~~~~~~~~~~~~~~~~\n",
      "Id                    int64\n",
      "EmployeeName         object\n",
      "JobTitle             object\n",
      "BasePay              object\n",
      "OvertimePay          object\n",
      "OtherPay             object\n",
      "Benefits             object\n",
      "TotalPay            float64\n",
      "TotalPayBenefits    float64\n",
      "Year                  int64\n",
      "Notes               float64\n",
      "Agency               object\n",
      "Status               object\n",
      "dtype: object\n",
      "~~~~~~~~~~~~~~~~~~~~~~~~~~~~~~~~~~MISSING VALUES~~~~~~~~~~~~~~~~~~~~~~~~~~~~~~~~~~\n",
      "          Missing Values   Ratio\n",
      "BasePay              605    0.41\n",
      "Benefits           36159   24.32\n",
      "Status            110535   74.36\n",
      "Notes             148654  100.00\n",
      "~~~~~~~~~~~~~~~~~~~~~~~~~~~~~~~~~~~~DUPLICATION~~~~~~~~~~~~~~~~~~~~~~~~~~~~~~~~~~~~\n",
      "0\n",
      "~~~~~~~~~~~~~~~~~~~~~~~~~~~~~~~~~~~~QUANTILES~~~~~~~~~~~~~~~~~~~~~~~~~~~~~~~~~~~~~\n",
      "                  Id       TotalPay  TotalPayBenefits           Year  Notes\n",
      "count  148654.000000  148654.000000     148654.000000  148654.000000    0.0\n",
      "mean    74327.500000   74768.321972      93692.554811    2012.522643    NaN\n",
      "std     42912.857795   50517.005274      62793.533483       1.117538    NaN\n",
      "min         1.000000    -618.130000       -618.130000    2011.000000    NaN\n",
      "25%     37164.250000   36168.995000      44065.650000    2012.000000    NaN\n",
      "50%     74327.500000   71426.610000      92404.090000    2013.000000    NaN\n",
      "75%    111490.750000  105839.135000     132876.450000    2014.000000    NaN\n",
      "max    148654.000000  567595.430000     567595.430000    2014.000000    NaN\n"
     ]
    }
   ],
   "source": [
    "dataframe_overview(df)"
   ]
  },
  {
   "cell_type": "markdown",
   "id": "7e66d5dc",
   "metadata": {},
   "source": [
    "#\n",
    "# Data Transformation |\n",
    "#"
   ]
  },
  {
   "cell_type": "markdown",
   "id": "e6d3e0d0",
   "metadata": {},
   "source": [
    "## Dropping Redundant Columns"
   ]
  },
  {
   "cell_type": "code",
   "execution_count": 75,
   "id": "7f57613b",
   "metadata": {},
   "outputs": [],
   "source": [
    "df.drop(columns = 'Notes', inplace = True)"
   ]
  },
  {
   "cell_type": "markdown",
   "id": "91d4936e",
   "metadata": {},
   "source": [
    "## Data Types Modifications\n"
   ]
  },
  {
   "cell_type": "code",
   "execution_count": 76,
   "id": "905733fc",
   "metadata": {},
   "outputs": [
    {
     "name": "stdout",
     "output_type": "stream",
     "text": [
      "4\n"
     ]
    }
   ],
   "source": [
    "#####  BASEPAY  ######### \n",
    "\n",
    "# Check 'Not Provided' records\n",
    "\n",
    "print((df['BasePay']=='Not Provided').sum())\n",
    "\n",
    "# Decision: Drop 4 'Not Provided' records\n",
    "\n",
    "df = df[df['BasePay']!='Not Provided']\n",
    "\n",
    "# Converting to float\n",
    "df['BasePay']= df['BasePay'].astype('float')\n"
   ]
  },
  {
   "cell_type": "code",
   "execution_count": 77,
   "id": "82c0e518",
   "metadata": {},
   "outputs": [],
   "source": [
    "#######  OvertimePay  ######### \n",
    "\n",
    "# Converting to float\n",
    "df['OvertimePay']= df['OvertimePay'].astype('float')"
   ]
  },
  {
   "cell_type": "code",
   "execution_count": 78,
   "id": "13a923c5",
   "metadata": {},
   "outputs": [],
   "source": [
    "#######  OtherPay  ######### \n",
    "\n",
    "# Converting to float\n",
    "df['OtherPay'] = df['OtherPay'].astype('float')"
   ]
  },
  {
   "cell_type": "code",
   "execution_count": 79,
   "id": "c48767d0",
   "metadata": {},
   "outputs": [],
   "source": [
    "#######  Benefits  ######### \n",
    "\n",
    "# Converting to float\n",
    "df['Benefits']= df['Benefits'].astype('float')"
   ]
  },
  {
   "cell_type": "markdown",
   "id": "2e615f83",
   "metadata": {},
   "source": [
    "#\n",
    "# Data Cleaning |\n",
    "#"
   ]
  },
  {
   "cell_type": "markdown",
   "id": "0635108a",
   "metadata": {},
   "source": [
    "## Dealing with NaN Values"
   ]
  },
  {
   "cell_type": "code",
   "execution_count": 80,
   "id": "b9813c4a",
   "metadata": {},
   "outputs": [],
   "source": [
    "#######  BasePay  ######### \n",
    "\n",
    "\n",
    "# Missing Data Ratio is 0.41% < 5%\n",
    "\n",
    "# Decision: Drop NaN\n",
    "\n",
    "# Droping NaN values \n",
    "\n",
    "df.dropna(subset = 'BasePay', inplace = True)\n",
    "\n"
   ]
  },
  {
   "cell_type": "code",
   "execution_count": 81,
   "id": "f0a9095a",
   "metadata": {},
   "outputs": [],
   "source": [
    "#######  Benefits & Status & Notes  ######### \n",
    "\n",
    "\n",
    "# Missing Data Ratio is around 24%\n",
    "\n",
    "# Decision: Leave the NaN values; Plausible NaNs"
   ]
  },
  {
   "cell_type": "markdown",
   "id": "956cef75",
   "metadata": {},
   "source": [
    "## Dealing with Data Formats"
   ]
  },
  {
   "cell_type": "code",
   "execution_count": 82,
   "id": "70a6598a",
   "metadata": {},
   "outputs": [
    {
     "data": {
      "text/html": [
       "<div>\n",
       "<style scoped>\n",
       "    .dataframe tbody tr th:only-of-type {\n",
       "        vertical-align: middle;\n",
       "    }\n",
       "\n",
       "    .dataframe tbody tr th {\n",
       "        vertical-align: top;\n",
       "    }\n",
       "\n",
       "    .dataframe thead th {\n",
       "        text-align: right;\n",
       "    }\n",
       "</style>\n",
       "<table border=\"1\" class=\"dataframe\">\n",
       "  <thead>\n",
       "    <tr style=\"text-align: right;\">\n",
       "      <th></th>\n",
       "      <th>Id</th>\n",
       "      <th>EmployeeName</th>\n",
       "      <th>JobTitle</th>\n",
       "      <th>BasePay</th>\n",
       "      <th>OvertimePay</th>\n",
       "      <th>OtherPay</th>\n",
       "      <th>Benefits</th>\n",
       "      <th>TotalPay</th>\n",
       "      <th>TotalPayBenefits</th>\n",
       "      <th>Year</th>\n",
       "      <th>Agency</th>\n",
       "      <th>Status</th>\n",
       "    </tr>\n",
       "  </thead>\n",
       "  <tbody>\n",
       "    <tr>\n",
       "      <th>0</th>\n",
       "      <td>1</td>\n",
       "      <td>Nathaniel Ford</td>\n",
       "      <td>GENERAL MANAGER-METROPOLITAN TRANSIT AUTHORITY</td>\n",
       "      <td>167411.18</td>\n",
       "      <td>0.00</td>\n",
       "      <td>400184.25</td>\n",
       "      <td>NaN</td>\n",
       "      <td>567595.43</td>\n",
       "      <td>567595.43</td>\n",
       "      <td>2011</td>\n",
       "      <td>San Francisco</td>\n",
       "      <td>NaN</td>\n",
       "    </tr>\n",
       "    <tr>\n",
       "      <th>1</th>\n",
       "      <td>2</td>\n",
       "      <td>Gary Jimenez</td>\n",
       "      <td>CAPTAIN III (POLICE DEPARTMENT)</td>\n",
       "      <td>155966.02</td>\n",
       "      <td>245131.88</td>\n",
       "      <td>137811.38</td>\n",
       "      <td>NaN</td>\n",
       "      <td>538909.28</td>\n",
       "      <td>538909.28</td>\n",
       "      <td>2011</td>\n",
       "      <td>San Francisco</td>\n",
       "      <td>NaN</td>\n",
       "    </tr>\n",
       "    <tr>\n",
       "      <th>2</th>\n",
       "      <td>3</td>\n",
       "      <td>Albert Pardini</td>\n",
       "      <td>CAPTAIN III (POLICE DEPARTMENT)</td>\n",
       "      <td>212739.13</td>\n",
       "      <td>106088.18</td>\n",
       "      <td>16452.60</td>\n",
       "      <td>NaN</td>\n",
       "      <td>335279.91</td>\n",
       "      <td>335279.91</td>\n",
       "      <td>2011</td>\n",
       "      <td>San Francisco</td>\n",
       "      <td>NaN</td>\n",
       "    </tr>\n",
       "    <tr>\n",
       "      <th>3</th>\n",
       "      <td>4</td>\n",
       "      <td>Christopher Chong</td>\n",
       "      <td>WIRE ROPE CABLE MAINTENANCE MECHANIC</td>\n",
       "      <td>77916.00</td>\n",
       "      <td>56120.71</td>\n",
       "      <td>198306.90</td>\n",
       "      <td>NaN</td>\n",
       "      <td>332343.61</td>\n",
       "      <td>332343.61</td>\n",
       "      <td>2011</td>\n",
       "      <td>San Francisco</td>\n",
       "      <td>NaN</td>\n",
       "    </tr>\n",
       "    <tr>\n",
       "      <th>4</th>\n",
       "      <td>5</td>\n",
       "      <td>Patrick Gardner</td>\n",
       "      <td>DEPUTY CHIEF OF DEPARTMENT,(FIRE DEPARTMENT)</td>\n",
       "      <td>134401.60</td>\n",
       "      <td>9737.00</td>\n",
       "      <td>182234.59</td>\n",
       "      <td>NaN</td>\n",
       "      <td>326373.19</td>\n",
       "      <td>326373.19</td>\n",
       "      <td>2011</td>\n",
       "      <td>San Francisco</td>\n",
       "      <td>NaN</td>\n",
       "    </tr>\n",
       "  </tbody>\n",
       "</table>\n",
       "</div>"
      ],
      "text/plain": [
       "   Id       EmployeeName                                        JobTitle  \\\n",
       "0   1     Nathaniel Ford  GENERAL MANAGER-METROPOLITAN TRANSIT AUTHORITY   \n",
       "1   2       Gary Jimenez                 CAPTAIN III (POLICE DEPARTMENT)   \n",
       "2   3     Albert Pardini                 CAPTAIN III (POLICE DEPARTMENT)   \n",
       "3   4  Christopher Chong            WIRE ROPE CABLE MAINTENANCE MECHANIC   \n",
       "4   5    Patrick Gardner    DEPUTY CHIEF OF DEPARTMENT,(FIRE DEPARTMENT)   \n",
       "\n",
       "     BasePay  OvertimePay   OtherPay  Benefits   TotalPay  TotalPayBenefits  \\\n",
       "0  167411.18         0.00  400184.25       NaN  567595.43         567595.43   \n",
       "1  155966.02    245131.88  137811.38       NaN  538909.28         538909.28   \n",
       "2  212739.13    106088.18   16452.60       NaN  335279.91         335279.91   \n",
       "3   77916.00     56120.71  198306.90       NaN  332343.61         332343.61   \n",
       "4  134401.60      9737.00  182234.59       NaN  326373.19         326373.19   \n",
       "\n",
       "   Year         Agency Status  \n",
       "0  2011  San Francisco    NaN  \n",
       "1  2011  San Francisco    NaN  \n",
       "2  2011  San Francisco    NaN  \n",
       "3  2011  San Francisco    NaN  \n",
       "4  2011  San Francisco    NaN  "
      ]
     },
     "execution_count": 82,
     "metadata": {},
     "output_type": "execute_result"
    }
   ],
   "source": [
    "df['EmployeeName'] = df['EmployeeName'].str.title()\n",
    "df.head()"
   ]
  },
  {
   "cell_type": "markdown",
   "id": "3fd8186a",
   "metadata": {},
   "source": [
    "## Dealing with The Outliers "
   ]
  },
  {
   "cell_type": "code",
   "execution_count": 83,
   "id": "4147d4ae",
   "metadata": {
    "scrolled": true
   },
   "outputs": [
    {
     "name": "stdout",
     "output_type": "stream",
     "text": [
      "BasePay_Upper: 186345.325\n",
      "BasePay_Lower: -58066.07500000001\n",
      "Outliers: 1037\n"
     ]
    }
   ],
   "source": [
    "##### BasePay ######\n",
    "\n",
    "Q1 = np.quantile(df['BasePay'],0.25)\n",
    "Q3 = np.quantile(df['BasePay'],0.75)\n",
    "\n",
    "from scipy.stats import iqr\n",
    "\n",
    "IQR = iqr(df['BasePay'])\n",
    "\n",
    "BasePay_Upper = Q3 + 1.5 * IQR\n",
    "BasePay_Lower = Q1 - 1.5 * IQR\n",
    "\n",
    "print('BasePay_Upper: {}'.format(BasePay_Upper))\n",
    "print('BasePay_Lower: {}'.format(BasePay_Lower))\n",
    "print('Outliers: {}'.format(((df['BasePay']< BasePay_Lower) | (df['BasePay']> BasePay_Upper)).sum()))"
   ]
  },
  {
   "cell_type": "code",
   "execution_count": 84,
   "id": "e5a8cdea",
   "metadata": {},
   "outputs": [],
   "source": [
    "df = df[(df['BasePay']> BasePay_Lower) & (df['BasePay'] < BasePay_Upper) ]\n",
    "df = df[df['BasePay']>0]"
   ]
  },
  {
   "cell_type": "code",
   "execution_count": 85,
   "id": "609a29aa",
   "metadata": {},
   "outputs": [
    {
     "name": "stdout",
     "output_type": "stream",
     "text": [
      "OvertimePay_Upper: 93801.8175\n",
      "OvertimePay_Lower: -88976.0175\n",
      "Outliers: 183\n"
     ]
    }
   ],
   "source": [
    "##### OvertimePay ######\n",
    "\n",
    "Q1 = np.quantile(df['OvertimePay'],0.25)\n",
    "Q3 = np.quantile(df['OvertimePay'],0.75)\n",
    "\n",
    "from scipy.stats import iqr\n",
    "\n",
    "IQR = iqr(df['BasePay'])\n",
    "\n",
    "OvertimePay_Upper = Q3 + 1.5 * IQR\n",
    "OvertimePay_Lower = Q1 - 1.5 * IQR\n",
    "\n",
    "print('OvertimePay_Upper: {}'.format(OvertimePay_Upper))\n",
    "print('OvertimePay_Lower: {}'.format(OvertimePay_Lower))\n",
    "print('Outliers: {}'.format(((df['OvertimePay']< OvertimePay_Lower) | (df['OvertimePay']> OvertimePay_Upper)).sum()))"
   ]
  },
  {
   "cell_type": "code",
   "execution_count": 86,
   "id": "86f7947d",
   "metadata": {},
   "outputs": [],
   "source": [
    "df = df[(df['OvertimePay']> OvertimePay_Lower) & (df['OvertimePay'] < OvertimePay_Upper) ]\n",
    "df = df[df['OvertimePay']>0]"
   ]
  },
  {
   "cell_type": "markdown",
   "id": "c4f0a9bb",
   "metadata": {},
   "source": [
    "#\n",
    "# The Analysis |"
   ]
  },
  {
   "cell_type": "markdown",
   "id": "3d35e4e6",
   "metadata": {},
   "source": [
    "## What is the average Base Pay?"
   ]
  },
  {
   "cell_type": "code",
   "execution_count": 87,
   "id": "2df3cc03",
   "metadata": {},
   "outputs": [
    {
     "name": "stdout",
     "output_type": "stream",
     "text": [
      "Average BasePay: 73871.45833636505\n"
     ]
    },
    {
     "data": {
      "image/png": "[encoded data removed]",
      "text/plain": [
       "<Figure size 1000x600 with 1 Axes>"
      ]
     },
     "metadata": {},
     "output_type": "display_data"
    },
    {
     "data": {
      "text/html": [
       "<div>\n",
       "<style scoped>\n",
       "    .dataframe tbody tr th:only-of-type {\n",
       "        vertical-align: middle;\n",
       "    }\n",
       "\n",
       "    .dataframe tbody tr th {\n",
       "        vertical-align: top;\n",
       "    }\n",
       "\n",
       "    .dataframe thead th {\n",
       "        text-align: right;\n",
       "    }\n",
       "</style>\n",
       "<table border=\"1\" class=\"dataframe\">\n",
       "  <thead>\n",
       "    <tr style=\"text-align: right;\">\n",
       "      <th></th>\n",
       "      <th>index</th>\n",
       "      <th>BasePay</th>\n",
       "    </tr>\n",
       "  </thead>\n",
       "  <tbody>\n",
       "    <tr>\n",
       "      <th>0</th>\n",
       "      <td>count</td>\n",
       "      <td>70917.000000</td>\n",
       "    </tr>\n",
       "    <tr>\n",
       "      <th>1</th>\n",
       "      <td>mean</td>\n",
       "      <td>73871.458336</td>\n",
       "    </tr>\n",
       "    <tr>\n",
       "      <th>2</th>\n",
       "      <td>std</td>\n",
       "      <td>34094.522269</td>\n",
       "    </tr>\n",
       "    <tr>\n",
       "      <th>3</th>\n",
       "      <td>min</td>\n",
       "      <td>31.360000</td>\n",
       "    </tr>\n",
       "    <tr>\n",
       "      <th>4</th>\n",
       "      <td>25%</td>\n",
       "      <td>53308.440000</td>\n",
       "    </tr>\n",
       "    <tr>\n",
       "      <th>5</th>\n",
       "      <td>50%</td>\n",
       "      <td>68067.020000</td>\n",
       "    </tr>\n",
       "    <tr>\n",
       "      <th>6</th>\n",
       "      <td>75%</td>\n",
       "      <td>99014.400000</td>\n",
       "    </tr>\n",
       "    <tr>\n",
       "      <th>7</th>\n",
       "      <td>max</td>\n",
       "      <td>186322.150000</td>\n",
       "    </tr>\n",
       "  </tbody>\n",
       "</table>\n",
       "</div>"
      ],
      "text/plain": [
       "   index        BasePay\n",
       "0  count   70917.000000\n",
       "1   mean   73871.458336\n",
       "2    std   34094.522269\n",
       "3    min      31.360000\n",
       "4    25%   53308.440000\n",
       "5    50%   68067.020000\n",
       "6    75%   99014.400000\n",
       "7    max  186322.150000"
      ]
     },
     "execution_count": 87,
     "metadata": {},
     "output_type": "execute_result"
    }
   ],
   "source": [
    "print('Average BasePay: {}'.format(df['BasePay'].mean()))\n",
    "\n",
    "# Set a larger figure size for better visibility\n",
    "plt.figure(figsize=(10, 6))\n",
    "\n",
    "# Use a color palette for better distinction\n",
    "color_palette = sns.color_palette(\"Blues\", n_colors=1)\n",
    "\n",
    "# Set a white grid for better readability\n",
    "sns.set(style=\"whitegrid\")\n",
    "\n",
    "# Create the boxplot\n",
    "ax = sns.boxplot(x='BasePay', data=df, color=color_palette[0], sym = \"\")\n",
    "\n",
    "# Add a title\n",
    "plt.title('Distribution of Base Pay', fontsize=16)\n",
    "\n",
    "# Customize x-axis label\n",
    "plt.xlabel('Base Pay', fontsize=14)\n",
    "\n",
    "\n",
    "# Add a horizontal grid for better readability\n",
    "plt.grid(axis='y', linestyle='--', alpha=0.7)\n",
    "\n",
    "medians = df['BasePay'].median()\n",
    "q1 = df['BasePay'].quantile(0.25)\n",
    "q3 = df['BasePay'].quantile(0.75)\n",
    "\n",
    "ax.annotate(f'Median: ${medians:.2f}', xy=(0.4, 0.95), xycoords='axes fraction',\n",
    "            ha='center', va='center', fontsize=12, color='red')\n",
    "\n",
    "ax.annotate(f'Q1: ${q1:.2f}', xy=(0.20, 0.9), xycoords='axes fraction',\n",
    "            ha='center', va='center', fontsize=12, color='blue')\n",
    "\n",
    "ax.annotate(f'Q3: ${q3:.2f}', xy=(0.62, 0.85), xycoords='axes fraction',\n",
    "            ha='center', va='center', fontsize=12, color='green')\n",
    "\n",
    "# Show the plot\n",
    "plt.show()\n",
    "\n",
    "df['BasePay'].describe().reset_index()"
   ]
  },
  {
   "cell_type": "markdown",
   "id": "4166949c",
   "metadata": {},
   "source": [
    "## What Is The Highest Amount of OvertimePay?"
   ]
  },
  {
   "cell_type": "code",
   "execution_count": 88,
   "id": "fca6c454",
   "metadata": {},
   "outputs": [
    {
     "name": "stdout",
     "output_type": "stream",
     "text": [
      "The Highest Amount of Overtime Pay recorded: $93700.89\n"
     ]
    },
    {
     "data": {
      "image/png": "[encoded data removed]",
      "text/plain": [
       "<Figure size 1000x600 with 1 Axes>"
      ]
     },
     "metadata": {},
     "output_type": "display_data"
    },
    {
     "data": {
      "text/html": [
       "<div>\n",
       "<style scoped>\n",
       "    .dataframe tbody tr th:only-of-type {\n",
       "        vertical-align: middle;\n",
       "    }\n",
       "\n",
       "    .dataframe tbody tr th {\n",
       "        vertical-align: top;\n",
       "    }\n",
       "\n",
       "    .dataframe thead th {\n",
       "        text-align: right;\n",
       "    }\n",
       "</style>\n",
       "<table border=\"1\" class=\"dataframe\">\n",
       "  <thead>\n",
       "    <tr style=\"text-align: right;\">\n",
       "      <th></th>\n",
       "      <th>index</th>\n",
       "      <th>OvertimePay</th>\n",
       "    </tr>\n",
       "  </thead>\n",
       "  <tbody>\n",
       "    <tr>\n",
       "      <th>0</th>\n",
       "      <td>count</td>\n",
       "      <td>70917.000000</td>\n",
       "    </tr>\n",
       "    <tr>\n",
       "      <th>1</th>\n",
       "      <td>mean</td>\n",
       "      <td>10301.065638</td>\n",
       "    </tr>\n",
       "    <tr>\n",
       "      <th>2</th>\n",
       "      <td>std</td>\n",
       "      <td>13687.250439</td>\n",
       "    </tr>\n",
       "    <tr>\n",
       "      <th>3</th>\n",
       "      <td>min</td>\n",
       "      <td>0.020000</td>\n",
       "    </tr>\n",
       "    <tr>\n",
       "      <th>4</th>\n",
       "      <td>25%</td>\n",
       "      <td>1587.880000</td>\n",
       "    </tr>\n",
       "    <tr>\n",
       "      <th>5</th>\n",
       "      <td>50%</td>\n",
       "      <td>5033.660000</td>\n",
       "    </tr>\n",
       "    <tr>\n",
       "      <th>6</th>\n",
       "      <td>75%</td>\n",
       "      <td>13284.610000</td>\n",
       "    </tr>\n",
       "    <tr>\n",
       "      <th>7</th>\n",
       "      <td>max</td>\n",
       "      <td>93700.890000</td>\n",
       "    </tr>\n",
       "  </tbody>\n",
       "</table>\n",
       "</div>"
      ],
      "text/plain": [
       "   index   OvertimePay\n",
       "0  count  70917.000000\n",
       "1   mean  10301.065638\n",
       "2    std  13687.250439\n",
       "3    min      0.020000\n",
       "4    25%   1587.880000\n",
       "5    50%   5033.660000\n",
       "6    75%  13284.610000\n",
       "7    max  93700.890000"
      ]
     },
     "execution_count": 88,
     "metadata": {},
     "output_type": "execute_result"
    }
   ],
   "source": [
    "print(\"The Highest Amount of Overtime Pay recorded: ${}\".format(df['OvertimePay'].max()))\n",
    "\n",
    "\n",
    "# Set a larger figure size for better visibility\n",
    "plt.figure(figsize=(10, 6))\n",
    "\n",
    "# Use a color palette for better distinction\n",
    "color_palette = sns.color_palette(\"Blues\", n_colors=1)\n",
    "\n",
    "# Set a white grid for better readability\n",
    "sns.set(style=\"whitegrid\")\n",
    "\n",
    "# Create the boxplot\n",
    "zx = sns.boxplot(x='OvertimePay', data=df, color=color_palette[0], sym=\"\")\n",
    "\n",
    "# Add a title\n",
    "plt.title('Distribution of Overtime Pay', fontsize=16)\n",
    "\n",
    "# Customize x-axis label\n",
    "plt.xlabel('Overtime Pay', fontsize=14)\n",
    "\n",
    "\n",
    "# Add a horizontal grid for better readability\n",
    "plt.grid(axis='y', linestyle='--', alpha=0.7)\n",
    "\n",
    "# Add an annotation for the max value\n",
    "max_value = df['OvertimePay'].max()\n",
    "medians = df['OvertimePay'].median()\n",
    "q1 = df['OvertimePay'].quantile(0.25)\n",
    "q3 = df['OvertimePay'].quantile(0.75)\n",
    "\n",
    "zx.annotate(f'Median: ${medians:.2f}', xy=(0.6, 0.80), xycoords='axes fraction',\n",
    "            ha='center', va='center', fontsize=12, color='red')\n",
    "\n",
    "zx.annotate(f'Q1: ${q1:.2f}', xy=(0.6, 0.75), xycoords='axes fraction',\n",
    "            ha='center', va='center', fontsize=12, color='blue')\n",
    "\n",
    "zx.annotate(f'Q3: ${q3:.2f}', xy=(0.6, 0.85), xycoords='axes fraction',\n",
    "            ha='center', va='center', fontsize=12, color='green')\n",
    "\n",
    "zx.annotate(f'Max: ${max_value:.2f}', xy=(0.6, 0.90), xycoords='axes fraction',\n",
    "            ha='center', va='center', fontsize=12, color='purple')\n",
    "\n",
    "# Show the plot\n",
    "plt.show()\n",
    "\n",
    "df[\"OvertimePay\"].describe().reset_index()\n"
   ]
  },
  {
   "cell_type": "markdown",
   "id": "83073bdf",
   "metadata": {},
   "source": [
    "## What Is The Job Titles Of Josephs?"
   ]
  },
  {
   "cell_type": "code",
   "execution_count": 119,
   "id": "f922392a",
   "metadata": {},
   "outputs": [
    {
     "data": {
      "text/html": [
       "<div>\n",
       "<style scoped>\n",
       "    .dataframe tbody tr th:only-of-type {\n",
       "        vertical-align: middle;\n",
       "    }\n",
       "\n",
       "    .dataframe tbody tr th {\n",
       "        vertical-align: top;\n",
       "    }\n",
       "\n",
       "    .dataframe thead th {\n",
       "        text-align: right;\n",
       "    }\n",
       "</style>\n",
       "<table border=\"1\" class=\"dataframe\">\n",
       "  <thead>\n",
       "    <tr style=\"text-align: right;\">\n",
       "      <th></th>\n",
       "      <th>EmployeeName</th>\n",
       "      <th>JobTitle</th>\n",
       "    </tr>\n",
       "  </thead>\n",
       "  <tbody>\n",
       "    <tr>\n",
       "      <th>297</th>\n",
       "      <td>Josephine Rapadas</td>\n",
       "      <td>NURSE MANAGER</td>\n",
       "    </tr>\n",
       "    <tr>\n",
       "      <th>532</th>\n",
       "      <td>Joseph Fischer-Iii</td>\n",
       "      <td>SERGEANT III (POLICE DEPARTMENT)</td>\n",
       "    </tr>\n",
       "    <tr>\n",
       "      <th>552</th>\n",
       "      <td>Joseph Fong</td>\n",
       "      <td>INSPECTOR III, (POLICE DEPARTMENT)</td>\n",
       "    </tr>\n",
       "    <tr>\n",
       "      <th>561</th>\n",
       "      <td>Joseph Mayers</td>\n",
       "      <td>POLICE OFFICER III</td>\n",
       "    </tr>\n",
       "    <tr>\n",
       "      <th>605</th>\n",
       "      <td>Joseph Engler</td>\n",
       "      <td>LIEUTENANT III (POLICE DEPARTMENT)</td>\n",
       "    </tr>\n",
       "    <tr>\n",
       "      <th>...</th>\n",
       "      <td>...</td>\n",
       "      <td>...</td>\n",
       "    </tr>\n",
       "    <tr>\n",
       "      <th>140288</th>\n",
       "      <td>Joseph J Parafina</td>\n",
       "      <td>Automotive Machinist</td>\n",
       "    </tr>\n",
       "    <tr>\n",
       "      <th>140406</th>\n",
       "      <td>Joseph Alhayawa</td>\n",
       "      <td>Custodial Assistant Supervisor</td>\n",
       "    </tr>\n",
       "    <tr>\n",
       "      <th>141081</th>\n",
       "      <td>Joseph M Keahey</td>\n",
       "      <td>EMT/Paramedic/Firefighter</td>\n",
       "    </tr>\n",
       "    <tr>\n",
       "      <th>142159</th>\n",
       "      <td>Joseph J Fernandes</td>\n",
       "      <td>Museum Guard</td>\n",
       "    </tr>\n",
       "    <tr>\n",
       "      <th>142615</th>\n",
       "      <td>Joseph A White Iii</td>\n",
       "      <td>Assistant Storekeeper</td>\n",
       "    </tr>\n",
       "  </tbody>\n",
       "</table>\n",
       "<p>644 rows × 2 columns</p>\n",
       "</div>"
      ],
      "text/plain": [
       "              EmployeeName                            JobTitle\n",
       "297      Josephine Rapadas                       NURSE MANAGER\n",
       "532     Joseph Fischer-Iii    SERGEANT III (POLICE DEPARTMENT)\n",
       "552            Joseph Fong  INSPECTOR III, (POLICE DEPARTMENT)\n",
       "561          Joseph Mayers                  POLICE OFFICER III\n",
       "605          Joseph Engler  LIEUTENANT III (POLICE DEPARTMENT)\n",
       "...                    ...                                 ...\n",
       "140288   Joseph J Parafina                Automotive Machinist\n",
       "140406     Joseph Alhayawa      Custodial Assistant Supervisor\n",
       "141081     Joseph M Keahey           EMT/Paramedic/Firefighter\n",
       "142159  Joseph J Fernandes                        Museum Guard\n",
       "142615  Joseph A White Iii               Assistant Storekeeper\n",
       "\n",
       "[644 rows x 2 columns]"
      ]
     },
     "execution_count": 119,
     "metadata": {},
     "output_type": "execute_result"
    }
   ],
   "source": [
    "#df[['EmployeeName','JobTitle']][df[\"EmployeeName\"].str.contains('^Joseph')]\n",
    "df[['EmployeeName','JobTitle']].query(\"EmployeeName.str.contains('^Joseph')\")"
   ]
  },
  {
   "cell_type": "code",
   "execution_count": 106,
   "id": "7468c30e",
   "metadata": {},
   "outputs": [
    {
     "data": {
      "text/html": [
       "<div>\n",
       "<style scoped>\n",
       "    .dataframe tbody tr th:only-of-type {\n",
       "        vertical-align: middle;\n",
       "    }\n",
       "\n",
       "    .dataframe tbody tr th {\n",
       "        vertical-align: top;\n",
       "    }\n",
       "\n",
       "    .dataframe thead th {\n",
       "        text-align: right;\n",
       "    }\n",
       "</style>\n",
       "<table border=\"1\" class=\"dataframe\">\n",
       "  <thead>\n",
       "    <tr style=\"text-align: right;\">\n",
       "      <th></th>\n",
       "      <th>EmployeeName</th>\n",
       "      <th>JobTitle</th>\n",
       "      <th>TotalPayBenefits</th>\n",
       "    </tr>\n",
       "  </thead>\n",
       "  <tbody>\n",
       "    <tr>\n",
       "      <th>110863</th>\n",
       "      <td>Joseph Fong</td>\n",
       "      <td>Lieutenant 3</td>\n",
       "      <td>264352.90</td>\n",
       "    </tr>\n",
       "    <tr>\n",
       "      <th>37868</th>\n",
       "      <td>Joseph Fong</td>\n",
       "      <td>Inspector 3</td>\n",
       "      <td>210761.60</td>\n",
       "    </tr>\n",
       "    <tr>\n",
       "      <th>552</th>\n",
       "      <td>Joseph Fong</td>\n",
       "      <td>INSPECTOR III, (POLICE DEPARTMENT)</td>\n",
       "      <td>184174.36</td>\n",
       "    </tr>\n",
       "  </tbody>\n",
       "</table>\n",
       "</div>"
      ],
      "text/plain": [
       "       EmployeeName                            JobTitle  TotalPayBenefits\n",
       "110863  Joseph Fong                        Lieutenant 3         264352.90\n",
       "37868   Joseph Fong                         Inspector 3         210761.60\n",
       "552     Joseph Fong  INSPECTOR III, (POLICE DEPARTMENT)         184174.36"
      ]
     },
     "execution_count": 106,
     "metadata": {},
     "output_type": "execute_result"
    }
   ],
   "source": [
    "df[['EmployeeName','JobTitle', 'TotalPayBenefits']].query(\"EmployeeName == 'Joseph Fong'\").sort_values('TotalPayBenefits',ascending = False)"
   ]
  },
  {
   "cell_type": "markdown",
   "id": "7ed184c2",
   "metadata": {},
   "source": [
    "## Who Is The Highest Paid Employee?"
   ]
  },
  {
   "cell_type": "code",
   "execution_count": 120,
   "id": "32ecbcaf",
   "metadata": {},
   "outputs": [
    {
     "data": {
      "text/html": [
       "<div>\n",
       "<style scoped>\n",
       "    .dataframe tbody tr th:only-of-type {\n",
       "        vertical-align: middle;\n",
       "    }\n",
       "\n",
       "    .dataframe tbody tr th {\n",
       "        vertical-align: top;\n",
       "    }\n",
       "\n",
       "    .dataframe thead th {\n",
       "        text-align: right;\n",
       "    }\n",
       "</style>\n",
       "<table border=\"1\" class=\"dataframe\">\n",
       "  <thead>\n",
       "    <tr style=\"text-align: right;\">\n",
       "      <th></th>\n",
       "      <th>EmployeeName</th>\n",
       "      <th>TotalPayBenefits</th>\n",
       "    </tr>\n",
       "  </thead>\n",
       "  <tbody>\n",
       "    <tr>\n",
       "      <th>72939</th>\n",
       "      <td>Marty A Ross</td>\n",
       "      <td>371608.35</td>\n",
       "    </tr>\n",
       "  </tbody>\n",
       "</table>\n",
       "</div>"
      ],
      "text/plain": [
       "       EmployeeName  TotalPayBenefits\n",
       "72939  Marty A Ross         371608.35"
      ]
     },
     "execution_count": 120,
     "metadata": {},
     "output_type": "execute_result"
    }
   ],
   "source": [
    "df[['EmployeeName','TotalPayBenefits']].query(\"TotalPayBenefits == TotalPayBenefits.max() \")"
   ]
  },
  {
   "cell_type": "markdown",
   "id": "b892496c",
   "metadata": {},
   "source": [
    "## Who Is The Lowest Paid Employee?"
   ]
  },
  {
   "cell_type": "code",
   "execution_count": 122,
   "id": "806cde6b",
   "metadata": {},
   "outputs": [
    {
     "data": {
      "text/html": [
       "<div>\n",
       "<style scoped>\n",
       "    .dataframe tbody tr th:only-of-type {\n",
       "        vertical-align: middle;\n",
       "    }\n",
       "\n",
       "    .dataframe tbody tr th {\n",
       "        vertical-align: top;\n",
       "    }\n",
       "\n",
       "    .dataframe thead th {\n",
       "        text-align: right;\n",
       "    }\n",
       "</style>\n",
       "<table border=\"1\" class=\"dataframe\">\n",
       "  <thead>\n",
       "    <tr style=\"text-align: right;\">\n",
       "      <th></th>\n",
       "      <th>EmployeeName</th>\n",
       "      <th>JobTitle</th>\n",
       "      <th>TotalPayBenefits</th>\n",
       "    </tr>\n",
       "  </thead>\n",
       "  <tbody>\n",
       "    <tr>\n",
       "      <th>35993</th>\n",
       "      <td>Jeanette Jummati</td>\n",
       "      <td>TESTING TECHNICIAN</td>\n",
       "      <td>168.65</td>\n",
       "    </tr>\n",
       "  </tbody>\n",
       "</table>\n",
       "</div>"
      ],
      "text/plain": [
       "           EmployeeName            JobTitle  TotalPayBenefits\n",
       "35993  Jeanette Jummati  TESTING TECHNICIAN            168.65"
      ]
     },
     "execution_count": 122,
     "metadata": {},
     "output_type": "execute_result"
    }
   ],
   "source": [
    "df[['EmployeeName','JobTitle','TotalPayBenefits']].query(\"TotalPayBenefits == TotalPayBenefits.min() \")"
   ]
  },
  {
   "cell_type": "markdown",
   "id": "42da56c1",
   "metadata": {},
   "source": [
    "## What Is The Average/Mean BasePay per Year?"
   ]
  },
  {
   "cell_type": "code",
   "execution_count": 161,
   "id": "01ee09fa",
   "metadata": {},
   "outputs": [
    {
     "data": {
      "image/png": "[encoded data removed]",
      "text/plain": [
       "<Figure size 1000x600 with 1 Axes>"
      ]
     },
     "metadata": {},
     "output_type": "display_data"
    },
    {
     "data": {
      "text/html": [
       "<div>\n",
       "<style scoped>\n",
       "    .dataframe tbody tr th:only-of-type {\n",
       "        vertical-align: middle;\n",
       "    }\n",
       "\n",
       "    .dataframe tbody tr th {\n",
       "        vertical-align: top;\n",
       "    }\n",
       "\n",
       "    .dataframe thead th {\n",
       "        text-align: right;\n",
       "    }\n",
       "</style>\n",
       "<table border=\"1\" class=\"dataframe\">\n",
       "  <thead>\n",
       "    <tr style=\"text-align: right;\">\n",
       "      <th></th>\n",
       "      <th>Year</th>\n",
       "      <th>BasePay</th>\n",
       "    </tr>\n",
       "  </thead>\n",
       "  <tbody>\n",
       "    <tr>\n",
       "      <th>0</th>\n",
       "      <td>2011</td>\n",
       "      <td>70779.197422</td>\n",
       "    </tr>\n",
       "    <tr>\n",
       "      <th>1</th>\n",
       "      <td>2012</td>\n",
       "      <td>73049.877353</td>\n",
       "    </tr>\n",
       "    <tr>\n",
       "      <th>2</th>\n",
       "      <td>2013</td>\n",
       "      <td>77632.307414</td>\n",
       "    </tr>\n",
       "    <tr>\n",
       "      <th>3</th>\n",
       "      <td>2014</td>\n",
       "      <td>73893.566148</td>\n",
       "    </tr>\n",
       "  </tbody>\n",
       "</table>\n",
       "</div>"
      ],
      "text/plain": [
       "   Year       BasePay\n",
       "0  2011  70779.197422\n",
       "1  2012  73049.877353\n",
       "2  2013  77632.307414\n",
       "3  2014  73893.566148"
      ]
     },
     "execution_count": 161,
     "metadata": {},
     "output_type": "execute_result"
    }
   ],
   "source": [
    "Avg_BasePay_Year = df.groupby(\"Year\")['BasePay'].mean().reset_index().sort_values('Year')\n",
    "Avg_BasePay_Year\n",
    "\n",
    "plt.figure(figsize=(10, 6))\n",
    "\n",
    "\n",
    "sns.set(style=\"whitegrid\")  # Optional: Set a white grid background for better readability\n",
    "\n",
    "# Create a vertical bar plot\n",
    "br = sns.barplot(data=Avg_BasePay_Year, x='Year', y='BasePay')\n",
    "\n",
    "# Annotate the bars with their values\n",
    "for p in br.patches:\n",
    "    br.annotate(f'${p.get_height():,.2f}', (p.get_x() + p.get_width() / 2, p.get_height()),\n",
    "                ha='center', va='center', fontsize=13, color='black')\n",
    "\n",
    "# Set plot title\n",
    "plt.title('Average Base Pay by Year', fontsize=16)\n",
    "\n",
    "# Set axis labels\n",
    "plt.xlabel('Year')\n",
    "plt.ylabel('Average Base Pay')\n",
    "\n",
    "# Show the plot\n",
    "plt.show()\n",
    "\n",
    "\n",
    "Avg_BasePay_Year"
   ]
  },
  {
   "cell_type": "markdown",
   "id": "58d64353",
   "metadata": {},
   "source": [
    "## Top 5 Most Common Job Titles in San Francisco"
   ]
  },
  {
   "cell_type": "code",
   "execution_count": 183,
   "id": "12c7102f",
   "metadata": {},
   "outputs": [
    {
     "data": {
      "image/png": "[encoded data removed]",
      "text/plain": [
       "<Figure size 800x800 with 1 Axes>"
      ]
     },
     "metadata": {},
     "output_type": "display_data"
    },
    {
     "data": {
      "text/html": [
       "<div>\n",
       "<style scoped>\n",
       "    .dataframe tbody tr th:only-of-type {\n",
       "        vertical-align: middle;\n",
       "    }\n",
       "\n",
       "    .dataframe tbody tr th {\n",
       "        vertical-align: top;\n",
       "    }\n",
       "\n",
       "    .dataframe thead th {\n",
       "        text-align: right;\n",
       "    }\n",
       "</style>\n",
       "<table border=\"1\" class=\"dataframe\">\n",
       "  <thead>\n",
       "    <tr style=\"text-align: right;\">\n",
       "      <th></th>\n",
       "      <th>index</th>\n",
       "      <th>JobTitle</th>\n",
       "    </tr>\n",
       "  </thead>\n",
       "  <tbody>\n",
       "    <tr>\n",
       "      <th>0</th>\n",
       "      <td>Transit Operator</td>\n",
       "      <td>6629</td>\n",
       "    </tr>\n",
       "    <tr>\n",
       "      <th>1</th>\n",
       "      <td>Registered Nurse</td>\n",
       "      <td>2966</td>\n",
       "    </tr>\n",
       "    <tr>\n",
       "      <th>2</th>\n",
       "      <td>TRANSIT OPERATOR</td>\n",
       "      <td>2197</td>\n",
       "    </tr>\n",
       "    <tr>\n",
       "      <th>3</th>\n",
       "      <td>Police Officer 3</td>\n",
       "      <td>2173</td>\n",
       "    </tr>\n",
       "    <tr>\n",
       "      <th>4</th>\n",
       "      <td>Firefighter</td>\n",
       "      <td>2091</td>\n",
       "    </tr>\n",
       "  </tbody>\n",
       "</table>\n",
       "</div>"
      ],
      "text/plain": [
       "              index  JobTitle\n",
       "0  Transit Operator      6629\n",
       "1  Registered Nurse      2966\n",
       "2  TRANSIT OPERATOR      2197\n",
       "3  Police Officer 3      2173\n",
       "4       Firefighter      2091"
      ]
     },
     "execution_count": 183,
     "metadata": {},
     "output_type": "execute_result"
    }
   ],
   "source": [
    "Top5_JobTitles = df['JobTitle'].value_counts().reset_index().sort_values('JobTitle', ascending = False)\n",
    "\n",
    "plt.figure(figsize=(8, 8))\n",
    "\n",
    "\n",
    "sns.set(style=\"whitegrid\")  # Optional: Set a white grid background for better readability\n",
    "\n",
    "# Create a horizontal bar plot\n",
    "bar_plot = sns.barplot(data=Top5_JobTitles[:5], x='JobTitle', y='index', orient='h')\n",
    "\n",
    "# Annotate the bars with their values\n",
    "for p in bar_plot.patches:\n",
    "    bar_plot.annotate(f'{p.get_width():,.0f}', (p.get_width(), p.get_y() + p.get_height() / 2),\n",
    "                      ha='center', va='center', fontsize=13, color='black')\n",
    "\n",
    "# Set plot title\n",
    "plt.title('Top 5 Job Titles', fontsize=18)\n",
    "\n",
    "# Set axis labels\n",
    "plt.xlabel('Counter')\n",
    "plt.ylabel('Job Titles')\n",
    "\n",
    "# Show the plot\n",
    "plt.show()\n",
    "\n",
    "\n",
    "Top5_JobTitles[:5]"
   ]
  },
  {
   "cell_type": "markdown",
   "id": "96c4e0fb",
   "metadata": {},
   "source": [
    "## Top 5 Least Job Titles in San Francisco"
   ]
  },
  {
   "cell_type": "code",
   "execution_count": 186,
   "id": "3b138e41",
   "metadata": {},
   "outputs": [
    {
     "data": {
      "image/png": "[encoded data removed]",
      "text/plain": [
       "<Figure size 600x800 with 1 Axes>"
      ]
     },
     "metadata": {},
     "output_type": "display_data"
    },
    {
     "data": {
      "text/html": [
       "<div>\n",
       "<style scoped>\n",
       "    .dataframe tbody tr th:only-of-type {\n",
       "        vertical-align: middle;\n",
       "    }\n",
       "\n",
       "    .dataframe tbody tr th {\n",
       "        vertical-align: top;\n",
       "    }\n",
       "\n",
       "    .dataframe thead th {\n",
       "        text-align: right;\n",
       "    }\n",
       "</style>\n",
       "<table border=\"1\" class=\"dataframe\">\n",
       "  <thead>\n",
       "    <tr style=\"text-align: right;\">\n",
       "      <th></th>\n",
       "      <th>index</th>\n",
       "      <th>JobTitle</th>\n",
       "    </tr>\n",
       "  </thead>\n",
       "  <tbody>\n",
       "    <tr>\n",
       "      <th>1207</th>\n",
       "      <td>Sheriff's Property Keeper</td>\n",
       "      <td>1</td>\n",
       "    </tr>\n",
       "    <tr>\n",
       "      <th>1092</th>\n",
       "      <td>COMMUNITY DEVELOPMENT ASSISTANT</td>\n",
       "      <td>1</td>\n",
       "    </tr>\n",
       "    <tr>\n",
       "      <th>1091</th>\n",
       "      <td>Asst Director, Juvenile Hall</td>\n",
       "      <td>1</td>\n",
       "    </tr>\n",
       "    <tr>\n",
       "      <th>1090</th>\n",
       "      <td>Accountant IV</td>\n",
       "      <td>1</td>\n",
       "    </tr>\n",
       "    <tr>\n",
       "      <th>1089</th>\n",
       "      <td>Administrative Hearing Sup</td>\n",
       "      <td>1</td>\n",
       "    </tr>\n",
       "  </tbody>\n",
       "</table>\n",
       "</div>"
      ],
      "text/plain": [
       "                                index  JobTitle\n",
       "1207        Sheriff's Property Keeper         1\n",
       "1092  COMMUNITY DEVELOPMENT ASSISTANT         1\n",
       "1091     Asst Director, Juvenile Hall         1\n",
       "1090                    Accountant IV         1\n",
       "1089       Administrative Hearing Sup         1"
      ]
     },
     "execution_count": 186,
     "metadata": {},
     "output_type": "execute_result"
    }
   ],
   "source": [
    "Least5_JobTitles = df['JobTitle'].value_counts().reset_index().sort_values('JobTitle')\n",
    "\n",
    "plt.figure(figsize=(6, 8))\n",
    "\n",
    "\n",
    "sns.set(style=\"whitegrid\")  # Optional: Set a white grid background for better readability\n",
    "\n",
    "# Create a horizontal bar plot\n",
    "bar_plot_least = sns.barplot(data=Least5_JobTitles[:5], x='JobTitle', y='index', orient='h')\n",
    "\n",
    "# Annotate the bars with their values\n",
    "for p in bar_plot_least.patches:\n",
    "    bar_plot_least.annotate(f'{p.get_width():,.0f}', (p.get_width(), p.get_y() + p.get_height() / 2),\n",
    "                      ha='center', va='center', fontsize=13, color='black')\n",
    "\n",
    "# Set plot title\n",
    "plt.title('Least 5 Job Titles', fontsize=18)\n",
    "\n",
    "# Set axis labels\n",
    "plt.xlabel('Counter')\n",
    "plt.ylabel('Job Titles')\n",
    "\n",
    "# Show the plot\n",
    "plt.show()\n",
    "\n",
    "\n",
    "Least5_JobTitles[:5]"
   ]
  },
  {
   "cell_type": "markdown",
   "id": "f5dee46a",
   "metadata": {},
   "source": [
    "## How Many Job Titles Represented only once in 2013?"
   ]
  },
  {
   "cell_type": "code",
   "execution_count": 212,
   "id": "69ed19b8",
   "metadata": {},
   "outputs": [
    {
     "data": {
      "text/plain": [
       "108"
      ]
     },
     "execution_count": 212,
     "metadata": {},
     "output_type": "execute_result"
    }
   ],
   "source": [
    "(df[df['Year']==2013]['JobTitle'].value_counts() == 1).sum()"
   ]
  },
  {
   "cell_type": "markdown",
   "id": "1777b8f8",
   "metadata": {},
   "source": [
    "## How Many Has The Word 'Chief' in their Job Titles?"
   ]
  },
  {
   "cell_type": "code",
   "execution_count": 237,
   "id": "42213f4d",
   "metadata": {},
   "outputs": [
    {
     "data": {
      "text/plain": [
       "238"
      ]
     },
     "execution_count": 237,
     "metadata": {},
     "output_type": "execute_result"
    }
   ],
   "source": [
    "df['JobTitle'].str.lower().str.contains('chief').sum()"
   ]
  },
  {
   "cell_type": "markdown",
   "id": "94a097f0",
   "metadata": {},
   "source": [
    "#\n",
    "# Thank You!\n",
    "## Mostafa Fahmi"
   ]
  }
 ],
 "metadata": {
  "kernelspec": {
   "display_name": "Python 3 (ipykernel)",
   "language": "python",
   "name": "python3"
  },
  "language_info": {
   "codemirror_mode": {
    "name": "ipython",
    "version": 3
   },
   "file_extension": ".py",
   "mimetype": "text/x-python",
   "name": "python",
   "nbconvert_exporter": "python",
   "pygments_lexer": "ipython3",
   "version": "3.11.3"
  }
 },
 "nbformat": 4,
 "nbformat_minor": 5
}
